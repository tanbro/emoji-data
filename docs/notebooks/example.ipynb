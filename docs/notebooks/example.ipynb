{
 "cells": [
  {
   "attachments": {},
   "cell_type": "markdown",
   "metadata": {},
   "source": [
    "# Example"
   ]
  },
  {
   "attachments": {},
   "cell_type": "markdown",
   "metadata": {},
   "source": [
    "Class `EmojiSequence` is most useful. To use it:"
   ]
  },
  {
   "attachments": {},
   "cell_type": "markdown",
   "metadata": {},
   "source": [
    "## Usages"
   ]
  },
  {
   "cell_type": "markdown",
   "metadata": {},
   "source": [
    "### Import and initialize the library"
   ]
  },
  {
   "attachments": {},
   "cell_type": "markdown",
   "metadata": {},
   "source": [
    "Import `emoji_data`:"
   ]
  },
  {
   "cell_type": "code",
   "execution_count": 1,
   "metadata": {},
   "outputs": [],
   "source": [
    "from emoji_data import load_emoji_data, EmojiSequence"
   ]
  },
  {
   "cell_type": "markdown",
   "metadata": {},
   "source": [
    "load emoji data to memory"
   ]
  },
  {
   "cell_type": "code",
   "execution_count": 2,
   "metadata": {},
   "outputs": [],
   "source": [
    "load_emoji_data()"
   ]
  },
  {
   "attachments": {},
   "cell_type": "markdown",
   "metadata": {},
   "source": [
    "### Print Emojis\n",
    "\n",
    "Print first 100 emojis"
   ]
  },
  {
   "cell_type": "code",
   "execution_count": 3,
   "metadata": {},
   "outputs": [
    {
     "name": "stdout",
     "output_type": "stream",
     "text": [
      "<EmojiSequence code_points='231A' string='⌚' version='E0.6' description='watch..hourglass done'>\n",
      "<EmojiSequence code_points='231B' string='⌛' version='E0.6' description='watch..hourglass done'>\n",
      "<EmojiSequence code_points='23E9' string='⏩' version='E0.6' description='fast-forward button..fast down button'>\n",
      "<EmojiSequence code_points='23EA' string='⏪' version='E0.6' description='fast-forward button..fast down button'>\n",
      "<EmojiSequence code_points='23EB' string='⏫' version='E0.6' description='fast-forward button..fast down button'>\n",
      "<EmojiSequence code_points='23EC' string='⏬' version='E0.6' description='fast-forward button..fast down button'>\n",
      "<EmojiSequence code_points='23F0' string='⏰' version='E0.6' description='alarm clock'>\n",
      "<EmojiSequence code_points='23F3' string='⏳' version='E0.6' description='hourglass not done'>\n",
      "<EmojiSequence code_points='25FD' string='◽' version='E0.6' description='white medium-small square..black medium-small square'>\n",
      "<EmojiSequence code_points='25FE' string='◾' version='E0.6' description='white medium-small square..black medium-small square'>\n",
      "<EmojiSequence code_points='2614' string='☔' version='E0.6' description='umbrella with rain drops..hot beverage'>\n",
      "<EmojiSequence code_points='2615' string='☕' version='E0.6' description='umbrella with rain drops..hot beverage'>\n",
      "<EmojiSequence code_points='2648' string='♈' version='E0.6' description='Aries..Pisces'>\n",
      "<EmojiSequence code_points='2649' string='♉' version='E0.6' description='Aries..Pisces'>\n",
      "<EmojiSequence code_points='264A' string='♊' version='E0.6' description='Aries..Pisces'>\n",
      "<EmojiSequence code_points='264B' string='♋' version='E0.6' description='Aries..Pisces'>\n",
      "<EmojiSequence code_points='264C' string='♌' version='E0.6' description='Aries..Pisces'>\n",
      "<EmojiSequence code_points='264D' string='♍' version='E0.6' description='Aries..Pisces'>\n",
      "<EmojiSequence code_points='264E' string='♎' version='E0.6' description='Aries..Pisces'>\n",
      "<EmojiSequence code_points='264F' string='♏' version='E0.6' description='Aries..Pisces'>\n",
      "<EmojiSequence code_points='2650' string='♐' version='E0.6' description='Aries..Pisces'>\n",
      "<EmojiSequence code_points='2651' string='♑' version='E0.6' description='Aries..Pisces'>\n",
      "<EmojiSequence code_points='2652' string='♒' version='E0.6' description='Aries..Pisces'>\n",
      "<EmojiSequence code_points='2653' string='♓' version='E0.6' description='Aries..Pisces'>\n",
      "<EmojiSequence code_points='267F' string='♿' version='E0.6' description='wheelchair symbol'>\n",
      "<EmojiSequence code_points='2693' string='⚓' version='E0.6' description='anchor'>\n",
      "<EmojiSequence code_points='26A1' string='⚡' version='E0.6' description='high voltage'>\n",
      "<EmojiSequence code_points='26AA' string='⚪' version='E0.6' description='white circle..black circle'>\n",
      "<EmojiSequence code_points='26AB' string='⚫' version='E0.6' description='white circle..black circle'>\n",
      "<EmojiSequence code_points='26BD' string='⚽' version='E0.6' description='soccer ball..baseball'>\n",
      "<EmojiSequence code_points='26BE' string='⚾' version='E0.6' description='soccer ball..baseball'>\n",
      "<EmojiSequence code_points='26C4' string='⛄' version='E0.6' description='snowman without snow..sun behind cloud'>\n",
      "<EmojiSequence code_points='26C5' string='⛅' version='E0.6' description='snowman without snow..sun behind cloud'>\n",
      "<EmojiSequence code_points='26CE' string='⛎' version='E0.6' description='Ophiuchus'>\n",
      "<EmojiSequence code_points='26D4' string='⛔' version='E0.6' description='no entry'>\n",
      "<EmojiSequence code_points='26EA' string='⛪' version='E0.6' description='church'>\n",
      "<EmojiSequence code_points='26F2' string='⛲' version='E0.6' description='fountain..flag in hole'>\n",
      "<EmojiSequence code_points='26F3' string='⛳' version='E0.6' description='fountain..flag in hole'>\n",
      "<EmojiSequence code_points='26F5' string='⛵' version='E0.6' description='sailboat'>\n",
      "<EmojiSequence code_points='26FA' string='⛺' version='E0.6' description='tent'>\n",
      "<EmojiSequence code_points='26FD' string='⛽' version='E0.6' description='fuel pump'>\n",
      "<EmojiSequence code_points='2705' string='✅' version='E0.6' description='check mark button'>\n",
      "<EmojiSequence code_points='270A' string='✊' version='E0.6' description='raised fist..raised hand'>\n",
      "<EmojiSequence code_points='270B' string='✋' version='E0.6' description='raised fist..raised hand'>\n",
      "<EmojiSequence code_points='2728' string='✨' version='E0.6' description='sparkles'>\n",
      "<EmojiSequence code_points='274C' string='❌' version='E0.6' description='cross mark'>\n",
      "<EmojiSequence code_points='274E' string='❎' version='E0.6' description='cross mark button'>\n",
      "<EmojiSequence code_points='2753' string='❓' version='E0.6' description='red question mark..white exclamation mark'>\n",
      "<EmojiSequence code_points='2754' string='❔' version='E0.6' description='red question mark..white exclamation mark'>\n",
      "<EmojiSequence code_points='2755' string='❕' version='E0.6' description='red question mark..white exclamation mark'>\n",
      "<EmojiSequence code_points='2757' string='❗' version='E0.6' description='red exclamation mark'>\n",
      "<EmojiSequence code_points='2795' string='➕' version='E0.6' description='plus..divide'>\n",
      "<EmojiSequence code_points='2796' string='➖' version='E0.6' description='plus..divide'>\n",
      "<EmojiSequence code_points='2797' string='➗' version='E0.6' description='plus..divide'>\n",
      "<EmojiSequence code_points='27B0' string='➰' version='E0.6' description='curly loop'>\n",
      "<EmojiSequence code_points='27BF' string='➿' version='E1.0' description='double curly loop'>\n",
      "<EmojiSequence code_points='2B1B' string='⬛' version='E0.6' description='black large square..white large square'>\n",
      "<EmojiSequence code_points='2B1C' string='⬜' version='E0.6' description='black large square..white large square'>\n",
      "<EmojiSequence code_points='2B50' string='⭐' version='E0.6' description='star'>\n",
      "<EmojiSequence code_points='2B55' string='⭕' version='E0.6' description='hollow red circle'>\n",
      "<EmojiSequence code_points='1F004' string='🀄' version='E0.6' description='mahjong red dragon'>\n",
      "<EmojiSequence code_points='1F0CF' string='🃏' version='E0.6' description='joker'>\n",
      "<EmojiSequence code_points='1F18E' string='🆎' version='E0.6' description='AB button (blood type)'>\n",
      "<EmojiSequence code_points='1F191' string='🆑' version='E0.6' description='CL button..VS button'>\n",
      "<EmojiSequence code_points='1F192' string='🆒' version='E0.6' description='CL button..VS button'>\n",
      "<EmojiSequence code_points='1F193' string='🆓' version='E0.6' description='CL button..VS button'>\n",
      "<EmojiSequence code_points='1F194' string='🆔' version='E0.6' description='CL button..VS button'>\n",
      "<EmojiSequence code_points='1F195' string='🆕' version='E0.6' description='CL button..VS button'>\n",
      "<EmojiSequence code_points='1F196' string='🆖' version='E0.6' description='CL button..VS button'>\n",
      "<EmojiSequence code_points='1F197' string='🆗' version='E0.6' description='CL button..VS button'>\n",
      "<EmojiSequence code_points='1F198' string='🆘' version='E0.6' description='CL button..VS button'>\n",
      "<EmojiSequence code_points='1F199' string='🆙' version='E0.6' description='CL button..VS button'>\n",
      "<EmojiSequence code_points='1F19A' string='🆚' version='E0.6' description='CL button..VS button'>\n",
      "<EmojiSequence code_points='1F201' string='🈁' version='E0.6' description='Japanese “here” button'>\n",
      "<EmojiSequence code_points='1F21A' string='🈚' version='E0.6' description='Japanese “free of charge” button'>\n",
      "<EmojiSequence code_points='1F22F' string='🈯' version='E0.6' description='Japanese “reserved” button'>\n",
      "<EmojiSequence code_points='1F232' string='🈲' version='E0.6' description='Japanese “prohibited” button..Japanese “not free of charge” button'>\n",
      "<EmojiSequence code_points='1F233' string='🈳' version='E0.6' description='Japanese “prohibited” button..Japanese “not free of charge” button'>\n",
      "<EmojiSequence code_points='1F234' string='🈴' version='E0.6' description='Japanese “prohibited” button..Japanese “not free of charge” button'>\n",
      "<EmojiSequence code_points='1F235' string='🈵' version='E0.6' description='Japanese “prohibited” button..Japanese “not free of charge” button'>\n",
      "<EmojiSequence code_points='1F236' string='🈶' version='E0.6' description='Japanese “prohibited” button..Japanese “not free of charge” button'>\n",
      "<EmojiSequence code_points='1F238' string='🈸' version='E0.6' description='Japanese “application” button..Japanese “open for business” button'>\n",
      "<EmojiSequence code_points='1F239' string='🈹' version='E0.6' description='Japanese “application” button..Japanese “open for business” button'>\n",
      "<EmojiSequence code_points='1F23A' string='🈺' version='E0.6' description='Japanese “application” button..Japanese “open for business” button'>\n",
      "<EmojiSequence code_points='1F250' string='🉐' version='E0.6' description='Japanese “bargain” button..Japanese “acceptable” button'>\n",
      "<EmojiSequence code_points='1F251' string='🉑' version='E0.6' description='Japanese “bargain” button..Japanese “acceptable” button'>\n",
      "<EmojiSequence code_points='1F300' string='🌀' version='E0.6' description='cyclone..milky way'>\n",
      "<EmojiSequence code_points='1F301' string='🌁' version='E0.6' description='cyclone..milky way'>\n",
      "<EmojiSequence code_points='1F302' string='🌂' version='E0.6' description='cyclone..milky way'>\n",
      "<EmojiSequence code_points='1F303' string='🌃' version='E0.6' description='cyclone..milky way'>\n",
      "<EmojiSequence code_points='1F304' string='🌄' version='E0.6' description='cyclone..milky way'>\n",
      "<EmojiSequence code_points='1F305' string='🌅' version='E0.6' description='cyclone..milky way'>\n",
      "<EmojiSequence code_points='1F306' string='🌆' version='E0.6' description='cyclone..milky way'>\n",
      "<EmojiSequence code_points='1F307' string='🌇' version='E0.6' description='cyclone..milky way'>\n",
      "<EmojiSequence code_points='1F308' string='🌈' version='E0.6' description='cyclone..milky way'>\n",
      "<EmojiSequence code_points='1F309' string='🌉' version='E0.6' description='cyclone..milky way'>\n",
      "<EmojiSequence code_points='1F30A' string='🌊' version='E0.6' description='cyclone..milky way'>\n",
      "<EmojiSequence code_points='1F30B' string='🌋' version='E0.6' description='cyclone..milky way'>\n",
      "<EmojiSequence code_points='1F30C' string='🌌' version='E0.6' description='cyclone..milky way'>\n",
      "<EmojiSequence code_points='1F30D' string='🌍' version='E0.7' description='globe showing Europe-Africa..globe showing Americas'>\n"
     ]
    }
   ],
   "source": [
    "for es, _ in zip(EmojiSequence.values(), range(100)):\n",
    "    print(repr(es))"
   ]
  },
  {
   "attachments": {},
   "cell_type": "markdown",
   "metadata": {},
   "source": [
    "### Check if hex list represents an EmojiSequence"
   ]
  },
  {
   "cell_type": "code",
   "execution_count": 4,
   "metadata": {},
   "outputs": [
    {
     "name": "stdout",
     "output_type": "stream",
     "text": [
      "1F6A3 is EmojiSequence 🚣\n",
      "1F468 1F3FC 200D F68F is NOT EmojiSequence!\n",
      "1F468 1F3FB 200D 2708 FE0F is EmojiSequence 👨🏻‍✈️\n",
      "023A is NOT EmojiSequence!\n",
      "1F469 200D 1F52C is EmojiSequence 👩‍🔬\n",
      "1F468 200D 1F468 200D 1F467 200D 1F467 is EmojiSequence 👨‍👨‍👧‍👧\n",
      "1F441 FE0F 200D 1F5E8 FE0E is NOT EmojiSequence!\n"
     ]
    }
   ],
   "source": [
    "emojis_data = [\n",
    "    \"1F6A3\",\n",
    "    \"1F468 1F3FC 200D F68F\",\n",
    "    \"1F468 1F3FB 200D 2708 FE0F\",\n",
    "    \"023A\",\n",
    "    \"1F469 200D 1F52C\",\n",
    "    \"1F468 200D 1F468 200D 1F467 200D 1F467\",\n",
    "    \"1F441 FE0F 200D 1F5E8 FE0E\",\n",
    "]\n",
    "\n",
    "for hex_data in emojis_data:\n",
    "    try:\n",
    "        es = EmojiSequence.from_hex(hex_data)\n",
    "    except KeyError:\n",
    "        print(\"{} is NOT EmojiSequence!\".format(hex_data))\n",
    "    else:\n",
    "        print(\"{} is EmojiSequence {}\".format(hex_data, es.string))"
   ]
  },
  {
   "attachments": {},
   "cell_type": "markdown",
   "metadata": {},
   "source": [
    "### Check if a string is EmojiSequence"
   ]
  },
  {
   "cell_type": "code",
   "execution_count": 5,
   "metadata": {},
   "outputs": [
    {
     "name": "stdout",
     "output_type": "stream",
     "text": [
      "True\n",
      "False\n",
      "True\n",
      "False\n"
     ]
    }
   ],
   "source": [
    "print(\"👨\" in EmojiSequence)\n",
    "print(\"©\" in EmojiSequence)  # 00AE, unqualified\n",
    "print(\"5️⃣\" in EmojiSequence)\n",
    "print(\"9⃣\" in EmojiSequence)  # 0039 20E3, unqualified"
   ]
  },
  {
   "attachments": {},
   "cell_type": "markdown",
   "metadata": {},
   "source": [
    "### Search EmojiSequence inside texts"
   ]
  },
  {
   "cell_type": "code",
   "execution_count": 6,
   "metadata": {},
   "outputs": [
    {
     "name": "stdout",
     "output_type": "stream",
     "text": [
      "[6:11] - 👨🏻‍⚕️ <EmojiSequence code_points='1F468 1F3FB 200D 2695 FE0F' string='👨🏻\\u200d⚕️' version='E4.0' description='man health worker: light skin tone'>\n",
      "[20:22] - 👨🏻 <EmojiSequence code_points='1F468 1F3FB' string='👨🏻' version='E1.0' description='man: light skin tone'>\n",
      "---\n",
      "[15:20] - 👨‍👨‍👧 <EmojiSequence code_points='1F468 200D 1F468 200D 1F467' string='👨\\u200d👨\\u200d👧' version='E2.0' description='family: man, man, girl'>\n",
      "[20:27] - 👨‍👨‍👧‍👧 <EmojiSequence code_points='1F468 200D 1F468 200D 1F467 200D 1F467' string='👨\\u200d👨\\u200d👧\\u200d👧' version='E2.0' description='family: man, man, girl, girl'>\n",
      "[49:50] - 🌞 <EmojiSequence code_points='1F31E' string='🌞' version='E1.0' description='full moon face..sun with face'>\n",
      "[50:52] - ⛈️ <EmojiSequence code_points='26C8 FE0F' string='⛈️' version='E5.2' description='THUNDER CLOUD AND RAIN'>\n",
      "[63:64] - 😀 <EmojiSequence code_points='1F600' string='😀' version='E1.0' description='grinning face'>\n",
      "---\n",
      "[59:61] - ©️ <EmojiSequence code_points='00A9 FE0F' string='©️' version='E1.1' description='COPYRIGHT SIGN'>\n",
      "---\n",
      "---\n",
      "---\n"
     ]
    }
   ],
   "source": [
    "strings = [\n",
    "    \"First:👨🏻‍⚕️. Second:👨🏻.\",\n",
    "    \"The two emojis 👨‍👨‍👧👨‍👨‍👧‍👧 are long. Today is a 🌞⛈️ day, I am 😀.\",\n",
    "    \"© 00AE is unqualified, the full-qualified one is 00A9 FE0F ©️\",\n",
    "    \"9⃣ 0039 20E3 is also unqualified, it will not be matched!\",\n",
    "    \"and no more emoji.\",\n",
    "]\n",
    "\n",
    "for s in strings:\n",
    "    for es, begin, end in EmojiSequence.find(s):\n",
    "        print(f\"[{begin}:{end}] - {es} {es!r}\")\n",
    "    print(\"---\")"
   ]
  }
 ],
 "metadata": {
  "kernelspec": {
   "display_name": "emoji-data (3.12.10)",
   "language": "python",
   "name": "python3"
  },
  "language_info": {
   "codemirror_mode": {
    "name": "ipython",
    "version": 3
   },
   "file_extension": ".py",
   "mimetype": "text/x-python",
   "name": "python",
   "nbconvert_exporter": "python",
   "pygments_lexer": "ipython3",
   "version": "3.12.10"
  }
 },
 "nbformat": 4,
 "nbformat_minor": 2
}
