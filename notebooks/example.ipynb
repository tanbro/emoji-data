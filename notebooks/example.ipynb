{
 "cells": [
  {
   "cell_type": "markdown",
   "source": [
    "# Example"
   ],
   "metadata": {}
  },
  {
   "cell_type": "markdown",
   "source": [
    "Class `EmojiSequence` is most usefule. To use it:"
   ],
   "metadata": {}
  },
  {
   "cell_type": "markdown",
   "source": [
    "## Usages"
   ],
   "metadata": {}
  },
  {
   "cell_type": "markdown",
   "source": [
    "Import `emoji_data`:"
   ],
   "metadata": {}
  },
  {
   "cell_type": "code",
   "execution_count": 1,
   "source": [
    "from emoji_data import EmojiSequence"
   ],
   "outputs": [],
   "metadata": {}
  },
  {
   "cell_type": "markdown",
   "source": [
    "### Print Emojis iterately\n",
    "\n",
    "Print 10 emojis"
   ],
   "metadata": {}
  },
  {
   "cell_type": "code",
   "execution_count": 2,
   "source": [
    "for i, es in enumerate(EmojiSequence.values()):\n",
    "    if i < 10:\n",
    "        print(repr(es))"
   ],
   "outputs": [
    {
     "output_type": "stream",
     "name": "stdout",
     "text": [
      "<EmojiSequence code_points='1F468 200D 2764 FE0F 200D 1F468' status='fully-qualified', string='👨\\u200d❤️\\u200d👨', description='couple with heart: man, man'>\n",
      "<EmojiSequence code_points='1F468 200D 2764 FE0F 200D 1F48B 200D 1F468' status='fully-qualified', string='👨\\u200d❤️\\u200d💋\\u200d👨', description='kiss: man, man'>\n",
      "<EmojiSequence code_points='1F468 200D 1F466' status='fully-qualified', string='👨\\u200d👦', description='family: man, boy'>\n",
      "<EmojiSequence code_points='1F468 200D 1F466 200D 1F466' status='fully-qualified', string='👨\\u200d👦\\u200d👦', description='family: man, boy, boy'>\n",
      "<EmojiSequence code_points='1F468 200D 1F467' status='fully-qualified', string='👨\\u200d👧', description='family: man, girl'>\n",
      "<EmojiSequence code_points='1F468 200D 1F467 200D 1F466' status='fully-qualified', string='👨\\u200d👧\\u200d👦', description='family: man, girl, boy'>\n",
      "<EmojiSequence code_points='1F468 200D 1F467 200D 1F467' status='fully-qualified', string='👨\\u200d👧\\u200d👧', description='family: man, girl, girl'>\n",
      "<EmojiSequence code_points='1F468 200D 1F468 200D 1F466' status='fully-qualified', string='👨\\u200d👨\\u200d👦', description='family: man, man, boy'>\n",
      "<EmojiSequence code_points='1F468 200D 1F468 200D 1F466 200D 1F466' status='fully-qualified', string='👨\\u200d👨\\u200d👦\\u200d👦', description='family: man, man, boy, boy'>\n",
      "<EmojiSequence code_points='1F468 200D 1F468 200D 1F467' status='fully-qualified', string='👨\\u200d👨\\u200d👧', description='family: man, man, girl'>\n"
     ]
    }
   ],
   "metadata": {}
  },
  {
   "cell_type": "markdown",
   "source": [
    "### Check if hex list represents an Emoji"
   ],
   "metadata": {}
  },
  {
   "cell_type": "code",
   "execution_count": 3,
   "source": [
    "emojis_data = [\n",
    "    '1F6A3',\n",
    "    '1F468 1F3FC 200D F68F',\n",
    "    '1F468 1F3FB 200D 2708 FE0F',\n",
    "    '023A',\n",
    "    '1F469 200D 1F52C',\n",
    "    '1F468 200D 1F468 200D 1F467 200D 1F467',\n",
    "    '1F441 FE0F 200D 1F5E8 FE0E'\n",
    "]\n",
    "\n",
    "for hex_data in emojis_data:\n",
    "    try:\n",
    "        es = EmojiSequence.from_hex(hex_data)\n",
    "    except KeyError:\n",
    "        print('{} is NOT Emoji!'.format(hex_data))\n",
    "    else:\n",
    "        print('{} is Emoji {}'.format(hex_data, es.string))"
   ],
   "outputs": [
    {
     "output_type": "stream",
     "name": "stdout",
     "text": [
      "1F6A3 is Emoji 🚣\n",
      "1F468 1F3FC 200D F68F is NOT Emoji!\n",
      "1F468 1F3FB 200D 2708 FE0F is Emoji 👨🏻‍✈️\n",
      "023A is NOT Emoji!\n",
      "1F469 200D 1F52C is Emoji 👩‍🔬\n",
      "1F468 200D 1F468 200D 1F467 200D 1F467 is Emoji 👨‍👨‍👧‍👧\n",
      "1F441 FE0F 200D 1F5E8 FE0E is NOT Emoji!\n"
     ]
    }
   ],
   "metadata": {}
  },
  {
   "cell_type": "markdown",
   "source": [
    "### Check if a string is Emoji"
   ],
   "metadata": {}
  },
  {
   "cell_type": "code",
   "execution_count": 4,
   "source": [
    "print('👨' in EmojiSequence)\n",
    "print('©' in EmojiSequence)  # 00AE, unqualified\n",
    "print('5️⃣' in EmojiSequence)\n",
    "print('9⃣' in EmojiSequence)  # 0039 20E3, unqualified"
   ],
   "outputs": [
    {
     "output_type": "stream",
     "name": "stdout",
     "text": [
      "True\n",
      "True\n",
      "True\n",
      "True\n"
     ]
    }
   ],
   "metadata": {}
  },
  {
   "cell_type": "markdown",
   "source": [
    "### Search Emojis inside texts"
   ],
   "metadata": {}
  },
  {
   "cell_type": "code",
   "execution_count": 5,
   "source": [
    "strings = [\n",
    "    \"First:👨🏻‍⚕️. Second:👨🏻.\",\n",
    "    \"The two emojis 👨‍👨‍👧👨‍👨‍👧‍👧 are long. Today is a 🌞⛈️ day, I am 😀.\",\n",
    "    \"© 00AE is unqualified, the full-qualified one is 00A9 FE0F ©️\",\n",
    "    \"9⃣ 0039 20E3 is also unqualified, but it can be matched!\",\n",
    "    \"and no emoji here.\"\n",
    "]\n",
    "\n",
    "for s in strings:\n",
    "    for es, begin, end in EmojiSequence.iter_find(s):\n",
    "        print('[{} : {}] : {}'.format(begin, end, es))\n",
    "    print('---')"
   ],
   "outputs": [
    {
     "output_type": "stream",
     "name": "stdout",
     "text": [
      "[6 : 11] : 👨🏻‍⚕️\n",
      "[20 : 22] : 👨🏻\n",
      "---\n",
      "[15 : 20] : 👨‍👨‍👧\n",
      "[20 : 27] : 👨‍👨‍👧‍👧\n",
      "[49 : 50] : 🌞\n",
      "[50 : 52] : ⛈️\n",
      "[63 : 64] : 😀\n",
      "---\n",
      "[0 : 1] : ©\n",
      "[59 : 61] : ©️\n",
      "---\n",
      "[0 : 2] : 9⃣\n",
      "---\n",
      "---\n"
     ]
    }
   ],
   "metadata": {}
  }
 ],
 "metadata": {
  "kernelspec": {
   "name": "python3",
   "display_name": "Python 3.8.10 64-bit ('venv': venv)"
  },
  "language_info": {
   "codemirror_mode": {
    "name": "ipython",
    "version": 3
   },
   "file_extension": ".py",
   "mimetype": "text/x-python",
   "name": "python",
   "nbconvert_exporter": "python",
   "pygments_lexer": "ipython3",
   "version": "3.8.10"
  },
  "interpreter": {
   "hash": "e144dc637bf9ec72e07dec98e4c470d8eef797ad693ee1854340bc4ce2529e51"
  }
 },
 "nbformat": 4,
 "nbformat_minor": 2
}