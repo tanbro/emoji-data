{
 "cells": [
  {
   "attachments": {},
   "cell_type": "markdown",
   "metadata": {},
   "source": [
    "# Example"
   ]
  },
  {
   "attachments": {},
   "cell_type": "markdown",
   "metadata": {},
   "source": [
    "Class `EmojiSequence` is most useful. To use it:"
   ]
  },
  {
   "attachments": {},
   "cell_type": "markdown",
   "metadata": {},
   "source": [
    "## Usages"
   ]
  },
  {
   "attachments": {},
   "cell_type": "markdown",
   "metadata": {},
   "source": [
    "Import `emoji_data`:"
   ]
  },
  {
   "cell_type": "code",
   "execution_count": 1,
   "metadata": {},
   "outputs": [],
   "source": [
    "from emoji_data import EmojiSequence"
   ]
  },
  {
   "attachments": {},
   "cell_type": "markdown",
   "metadata": {},
   "source": [
    "### Print Emojis\n",
    "\n",
    "Print first 50 emojis"
   ]
  },
  {
   "cell_type": "code",
   "execution_count": 2,
   "metadata": {},
   "outputs": [
    {
     "name": "stdout",
     "output_type": "stream",
     "text": [
      "<EmojiSequence code_points='0023 FE0E' string='#︎', description='text style;'>\n",
      "<EmojiSequence code_points='0023 FE0F' string='#️', description='emoji style;'>\n",
      "<EmojiSequence code_points='002A FE0E' string='*︎', description='text style;'>\n",
      "<EmojiSequence code_points='002A FE0F' string='*️', description='emoji style;'>\n",
      "<EmojiSequence code_points='0030 FE0E' string='0︎', description='text style;'>\n",
      "<EmojiSequence code_points='0030 FE0F' string='0️', description='emoji style;'>\n",
      "<EmojiSequence code_points='0031 FE0E' string='1︎', description='text style;'>\n",
      "<EmojiSequence code_points='0031 FE0F' string='1️', description='emoji style;'>\n",
      "<EmojiSequence code_points='0032 FE0E' string='2︎', description='text style;'>\n",
      "<EmojiSequence code_points='0032 FE0F' string='2️', description='emoji style;'>\n",
      "<EmojiSequence code_points='0033 FE0E' string='3︎', description='text style;'>\n",
      "<EmojiSequence code_points='0033 FE0F' string='3️', description='emoji style;'>\n",
      "<EmojiSequence code_points='0034 FE0E' string='4︎', description='text style;'>\n",
      "<EmojiSequence code_points='0034 FE0F' string='4️', description='emoji style;'>\n",
      "<EmojiSequence code_points='0035 FE0E' string='5︎', description='text style;'>\n",
      "<EmojiSequence code_points='0035 FE0F' string='5️', description='emoji style;'>\n",
      "<EmojiSequence code_points='0036 FE0E' string='6︎', description='text style;'>\n",
      "<EmojiSequence code_points='0036 FE0F' string='6️', description='emoji style;'>\n",
      "<EmojiSequence code_points='0037 FE0E' string='7︎', description='text style;'>\n",
      "<EmojiSequence code_points='0037 FE0F' string='7️', description='emoji style;'>\n",
      "<EmojiSequence code_points='0038 FE0E' string='8︎', description='text style;'>\n",
      "<EmojiSequence code_points='0038 FE0F' string='8️', description='emoji style;'>\n",
      "<EmojiSequence code_points='0039 FE0E' string='9︎', description='text style;'>\n",
      "<EmojiSequence code_points='0039 FE0F' string='9️', description='emoji style;'>\n",
      "<EmojiSequence code_points='00A9 FE0E' string='©︎', description='text style;'>\n",
      "<EmojiSequence code_points='00A9 FE0F' string='©️', description='copyright'>\n",
      "<EmojiSequence code_points='00AE FE0E' string='®︎', description='text style;'>\n",
      "<EmojiSequence code_points='00AE FE0F' string='®️', description='registered'>\n",
      "<EmojiSequence code_points='203C FE0E' string='‼︎', description='text style;'>\n",
      "<EmojiSequence code_points='203C FE0F' string='‼️', description='double exclamation mark'>\n",
      "<EmojiSequence code_points='2049 FE0E' string='⁉︎', description='text style;'>\n",
      "<EmojiSequence code_points='2049 FE0F' string='⁉️', description='exclamation question mark'>\n",
      "<EmojiSequence code_points='2122 FE0E' string='™︎', description='text style;'>\n",
      "<EmojiSequence code_points='2122 FE0F' string='™️', description='trade mark'>\n",
      "<EmojiSequence code_points='2139 FE0E' string='ℹ︎', description='text style;'>\n",
      "<EmojiSequence code_points='2139 FE0F' string='ℹ️', description='information'>\n",
      "<EmojiSequence code_points='2194 FE0E' string='↔︎', description='text style;'>\n",
      "<EmojiSequence code_points='2194 FE0F' string='↔️', description='left-right arrow'>\n",
      "<EmojiSequence code_points='2195 FE0E' string='↕︎', description='text style;'>\n",
      "<EmojiSequence code_points='2195 FE0F' string='↕️', description='up-down arrow'>\n",
      "<EmojiSequence code_points='2196 FE0E' string='↖︎', description='text style;'>\n",
      "<EmojiSequence code_points='2196 FE0F' string='↖️', description='up-left arrow'>\n",
      "<EmojiSequence code_points='2197 FE0E' string='↗︎', description='text style;'>\n",
      "<EmojiSequence code_points='2197 FE0F' string='↗️', description='up-right arrow'>\n",
      "<EmojiSequence code_points='2198 FE0E' string='↘︎', description='text style;'>\n",
      "<EmojiSequence code_points='2198 FE0F' string='↘️', description='down-right arrow'>\n",
      "<EmojiSequence code_points='2199 FE0E' string='↙︎', description='text style;'>\n",
      "<EmojiSequence code_points='2199 FE0F' string='↙️', description='down-left arrow'>\n",
      "<EmojiSequence code_points='21A9 FE0E' string='↩︎', description='text style;'>\n",
      "<EmojiSequence code_points='21A9 FE0F' string='↩️', description='right arrow curving left'>\n"
     ]
    }
   ],
   "source": [
    "for es, _ in zip(EmojiSequence.values(), range(50)):\n",
    "    print(repr(es))"
   ]
  },
  {
   "attachments": {},
   "cell_type": "markdown",
   "metadata": {},
   "source": [
    "### Check if hex list represents an EmojiSequence"
   ]
  },
  {
   "cell_type": "code",
   "execution_count": 3,
   "metadata": {},
   "outputs": [
    {
     "name": "stdout",
     "output_type": "stream",
     "text": [
      "1F6A3 is EmojiSequence 🚣\n",
      "1F468 1F3FC 200D F68F is NOT EmojiSequence!\n",
      "1F468 1F3FB 200D 2708 FE0F is EmojiSequence 👨🏻‍✈️\n",
      "023A is NOT EmojiSequence!\n",
      "1F469 200D 1F52C is EmojiSequence 👩‍🔬\n",
      "1F468 200D 1F468 200D 1F467 200D 1F467 is EmojiSequence 👨‍👨‍👧‍👧\n",
      "1F441 FE0F 200D 1F5E8 FE0E is NOT EmojiSequence!\n"
     ]
    }
   ],
   "source": [
    "emojis_data = [\n",
    "    \"1F6A3\",\n",
    "    \"1F468 1F3FC 200D F68F\",\n",
    "    \"1F468 1F3FB 200D 2708 FE0F\",\n",
    "    \"023A\",\n",
    "    \"1F469 200D 1F52C\",\n",
    "    \"1F468 200D 1F468 200D 1F467 200D 1F467\",\n",
    "    \"1F441 FE0F 200D 1F5E8 FE0E\",\n",
    "]\n",
    "\n",
    "for hex_data in emojis_data:\n",
    "    try:\n",
    "        es = EmojiSequence.from_hex(hex_data)\n",
    "    except KeyError:\n",
    "        print(\"{} is NOT EmojiSequence!\".format(hex_data))\n",
    "    else:\n",
    "        print(\"{} is EmojiSequence {}\".format(hex_data, es.string))"
   ]
  },
  {
   "attachments": {},
   "cell_type": "markdown",
   "metadata": {},
   "source": [
    "### Check if a string is EmojiSequence"
   ]
  },
  {
   "cell_type": "code",
   "execution_count": 4,
   "metadata": {},
   "outputs": [
    {
     "name": "stdout",
     "output_type": "stream",
     "text": [
      "True\n",
      "False\n",
      "True\n",
      "False\n"
     ]
    }
   ],
   "source": [
    "print(\"👨\" in EmojiSequence)\n",
    "print(\"©\" in EmojiSequence)  # 00AE, unqualified\n",
    "print(\"5️⃣\" in EmojiSequence)\n",
    "print(\"9⃣\" in EmojiSequence)  # 0039 20E3, unqualified"
   ]
  },
  {
   "attachments": {},
   "cell_type": "markdown",
   "metadata": {},
   "source": [
    "### Search EmojiSequence inside texts"
   ]
  },
  {
   "cell_type": "code",
   "execution_count": 5,
   "metadata": {},
   "outputs": [
    {
     "name": "stdout",
     "output_type": "stream",
     "text": [
      "[6:11] - 👨🏻‍⚕️ <EmojiSequence code_points='1F468 1F3FB 200D 2695 FE0F' string='👨🏻\\u200d⚕️', description='man health worker: light skin tone'>\n",
      "[20:22] - 👨🏻 <EmojiSequence code_points='1F468 1F3FB' string='👨🏻', description='man: light skin tone'>\n",
      "---\n",
      "[15:20] - 👨‍👨‍👧 <EmojiSequence code_points='1F468 200D 1F468 200D 1F467' string='👨\\u200d👨\\u200d👧', description='family: man, man, girl'>\n",
      "[20:27] - 👨‍👨‍👧‍👧 <EmojiSequence code_points='1F468 200D 1F468 200D 1F467 200D 1F467' string='👨\\u200d👨\\u200d👧\\u200d👧', description='family: man, man, girl, girl'>\n",
      "[49:50] - 🌞 <EmojiSequence code_points='1F31E' string='🌞', description='full moon face..sun with face'>\n",
      "[50:52] - ⛈️ <EmojiSequence code_points='26C8 FE0F' string='⛈️', description='cloud with lightning and rain'>\n",
      "[63:64] - 😀 <EmojiSequence code_points='1F600' string='😀', description='grinning face'>\n",
      "---\n",
      "[59:61] - ©️ <EmojiSequence code_points='00A9 FE0F' string='©️', description='copyright'>\n",
      "---\n",
      "---\n",
      "---\n"
     ]
    }
   ],
   "source": [
    "strings = [\n",
    "    \"First:👨🏻‍⚕️. Second:👨🏻.\",\n",
    "    \"The two emojis 👨‍👨‍👧👨‍👨‍👧‍👧 are long. Today is a 🌞⛈️ day, I am 😀.\",\n",
    "    \"© 00AE is unqualified, the full-qualified one is 00A9 FE0F ©️\",\n",
    "    \"9⃣ 0039 20E3 is also unqualified, it will not be matched!\",\n",
    "    \"and no more emoji.\",\n",
    "]\n",
    "\n",
    "for s in strings:\n",
    "    for es, begin, end in EmojiSequence.find(s):\n",
    "        print(f\"[{begin}:{end}] - {es} {es!r}\")\n",
    "    print(\"---\")"
   ]
  }
 ],
 "metadata": {
  "interpreter": {
   "hash": "e144dc637bf9ec72e07dec98e4c470d8eef797ad693ee1854340bc4ce2529e51"
  },
  "kernelspec": {
   "display_name": "Python 3.8.10 64-bit ('venv': venv)",
   "name": "python3"
  },
  "language_info": {
   "codemirror_mode": {
    "name": "ipython",
    "version": 3
   },
   "file_extension": ".py",
   "mimetype": "text/x-python",
   "name": "python",
   "nbconvert_exporter": "python",
   "pygments_lexer": "ipython3",
   "version": "3.11.3"
  }
 },
 "nbformat": 4,
 "nbformat_minor": 2
}
