{
 "cells": [
  {
   "cell_type": "markdown",
   "metadata": {},
   "source": [
    "# Example"
   ]
  },
  {
   "cell_type": "markdown",
   "metadata": {},
   "source": [
    "Class `EmojiSequence` is most usefule. To use it:"
   ]
  },
  {
   "cell_type": "markdown",
   "metadata": {},
   "source": [
    "## Usages"
   ]
  },
  {
   "cell_type": "markdown",
   "metadata": {},
   "source": [
    "Import `emoji_data`:"
   ]
  },
  {
   "cell_type": "code",
   "execution_count": 1,
   "metadata": {},
   "outputs": [],
   "source": [
    "from emoji_data import EmojiSequence"
   ]
  },
  {
   "cell_type": "markdown",
   "metadata": {},
   "source": [
    "### Print Emojis iterately\n",
    "\n",
    "Print 10 emojis"
   ]
  },
  {
   "cell_type": "code",
   "execution_count": 2,
   "metadata": {},
   "outputs": [
    {
     "name": "stdout",
     "output_type": "stream",
     "text": [
      "<EmojiSequence code_points='1F468 200D 2764 FE0F 200D 1F468' status='fully-qualified', string='👨\\u200d❤️\\u200d👨', description='couple with heart: man, man'>\n",
      "<EmojiSequence code_points='1F468 200D 2764 FE0F 200D 1F48B 200D 1F468' status='fully-qualified', string='👨\\u200d❤️\\u200d💋\\u200d👨', description='kiss: man, man'>\n",
      "<EmojiSequence code_points='1F468 200D 1F466' status='fully-qualified', string='👨\\u200d👦', description='family: man, boy'>\n",
      "<EmojiSequence code_points='1F468 200D 1F466 200D 1F466' status='fully-qualified', string='👨\\u200d👦\\u200d👦', description='family: man, boy, boy'>\n",
      "<EmojiSequence code_points='1F468 200D 1F467' status='fully-qualified', string='👨\\u200d👧', description='family: man, girl'>\n",
      "<EmojiSequence code_points='1F468 200D 1F467 200D 1F466' status='fully-qualified', string='👨\\u200d👧\\u200d👦', description='family: man, girl, boy'>\n",
      "<EmojiSequence code_points='1F468 200D 1F467 200D 1F467' status='fully-qualified', string='👨\\u200d👧\\u200d👧', description='family: man, girl, girl'>\n",
      "<EmojiSequence code_points='1F468 200D 1F468 200D 1F466' status='fully-qualified', string='👨\\u200d👨\\u200d👦', description='family: man, man, boy'>\n",
      "<EmojiSequence code_points='1F468 200D 1F468 200D 1F466 200D 1F466' status='fully-qualified', string='👨\\u200d👨\\u200d👦\\u200d👦', description='family: man, man, boy, boy'>\n",
      "<EmojiSequence code_points='1F468 200D 1F468 200D 1F467' status='fully-qualified', string='👨\\u200d👨\\u200d👧', description='family: man, man, girl'>\n"
     ]
    }
   ],
   "source": [
    "for i, (_, es) in enumerate(EmojiSequence):\n",
    "    if i < 10:\n",
    "        print(repr(es))\n"
   ]
  },
  {
   "cell_type": "markdown",
   "metadata": {},
   "source": [
    "### Check if hex list represents an Emoji"
   ]
  },
  {
   "cell_type": "code",
   "execution_count": 3,
   "metadata": {},
   "outputs": [
    {
     "name": "stdout",
     "output_type": "stream",
     "text": [
      "1F6A3 is Emoji 🚣\n",
      "1F468 1F3FC 200D F68F is NOT Emoji!\n",
      "1F468 1F3FB 200D 2708 FE0F is Emoji 👨🏻‍✈️\n",
      "023A is NOT Emoji!\n",
      "1F469 200D 1F52C is Emoji 👩‍🔬\n",
      "1F468 200D 1F468 200D 1F467 200D 1F467 is Emoji 👨‍👨‍👧‍👧\n",
      "1F441 FE0F 200D 1F5E8 FE0E is NOT Emoji!\n"
     ]
    }
   ],
   "source": [
    "emojis_data = [\n",
    "    '1F6A3',\n",
    "    '1F468 1F3FC 200D F68F',\n",
    "    '1F468 1F3FB 200D 2708 FE0F',\n",
    "    '023A',\n",
    "    '1F469 200D 1F52C',\n",
    "    '1F468 200D 1F468 200D 1F467 200D 1F467',\n",
    "    '1F441 FE0F 200D 1F5E8 FE0E'\n",
    "]\n",
    "\n",
    "for hex_data in emojis_data:\n",
    "    try:\n",
    "        es = EmojiSequence.from_hex(hex_data)\n",
    "    except KeyError:\n",
    "        print('{} is NOT Emoji!'.format(hex_data))\n",
    "    else:\n",
    "        print('{} is Emoji {}'.format(hex_data, es.string))\n"
   ]
  },
  {
   "cell_type": "markdown",
   "metadata": {},
   "source": [
    "### Check if a string is Emoji"
   ]
  },
  {
   "cell_type": "code",
   "execution_count": 4,
   "metadata": {},
   "outputs": [
    {
     "name": "stdout",
     "output_type": "stream",
     "text": [
      "True\n",
      "True\n",
      "True\n",
      "True\n"
     ]
    }
   ],
   "source": [
    "print('👨' in EmojiSequence)\n",
    "print('©' in EmojiSequence)  # 00AE, unqualified\n",
    "print('5️⃣' in EmojiSequence)\n",
    "print('9⃣' in EmojiSequence)  # 0039 20E3, unqualified\n"
   ]
  },
  {
   "cell_type": "markdown",
   "metadata": {},
   "source": [
    "### Search Emojis inside texts"
   ]
  },
  {
   "cell_type": "code",
   "execution_count": 5,
   "metadata": {},
   "outputs": [
    {
     "name": "stdout",
     "output_type": "stream",
     "text": [
      "[6 : 11] : 👨🏻‍⚕️\n",
      "[20 : 22] : 👨🏻\n",
      "------\n",
      "[15 : 20] : 👨‍👨‍👧\n",
      "[20 : 27] : 👨‍👨‍👧‍👧\n",
      "[49 : 50] : 🌞\n",
      "[50 : 52] : ⛈️\n",
      "[63 : 64] : 😀\n",
      "------\n",
      "[0 : 1] : ©\n",
      "[59 : 61] : ©️\n",
      "------\n",
      "[0 : 2] : 9⃣\n",
      "------\n"
     ]
    }
   ],
   "source": [
    "pat = EmojiSequence.pattern\n",
    "\n",
    "strings = [\n",
    "    \"First:👨🏻‍⚕️. Second:👨🏻.\",\n",
    "    \"The two emojis 👨‍👨‍👧👨‍👨‍👧‍👧 are long. Today is a 🌞⛈️ day, I am 😀.\",\n",
    "    \"© 00AE is unqualified, the full-qualified one is 00A9 FE0F ©️\",\n",
    "    \"9⃣ 0039 20E3 is also unqualified, but it can be matched!\"\n",
    "]\n",
    "\n",
    "for s in strings:\n",
    "    m = pat.search(s)\n",
    "    while m:\n",
    "        assert m.group() in EmojiSequence\n",
    "        print('[{} : {}] : {}'.format(m.start(), m.end(), m.group()))\n",
    "        m = pat.search(s, m.end())\n",
    "    print('------')\n"
   ]
  },
  {
   "cell_type": "code",
   "execution_count": null,
   "metadata": {},
   "outputs": [],
   "source": []
  }
 ],
 "metadata": {
  "kernelspec": {
   "display_name": "Python 3",
   "language": "python",
   "name": "python3"
  },
  "language_info": {
   "codemirror_mode": {
    "name": "ipython",
    "version": 3
   },
   "file_extension": ".py",
   "mimetype": "text/x-python",
   "name": "python",
   "nbconvert_exporter": "python",
   "pygments_lexer": "ipython3",
   "version": "3.6.7"
  }
 },
 "nbformat": 4,
 "nbformat_minor": 2
}
